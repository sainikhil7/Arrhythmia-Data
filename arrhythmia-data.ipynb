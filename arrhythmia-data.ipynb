{
 "cells": [
  {
   "cell_type": "code",
   "execution_count": 3,
   "metadata": {},
   "outputs": [],
   "source": [
    "import pandas as pd\n",
    "import math\n",
    "import numpy as np\n",
    "import matplotlib.pyplot as plt\n",
    "from os import listdir"
   ]
  },
  {
   "cell_type": "code",
   "execution_count": 4,
   "metadata": {},
   "outputs": [],
   "source": [
    "#data must be downloaded and path provided\n",
    "data_path = 'mit-bih-arrhythmia-database-1.0.0/'"
   ]
  },
  {
   "cell_type": "code",
   "execution_count": 5,
   "metadata": {},
   "outputs": [],
   "source": [
    "#list of patients\n",
    "pts=['100','101','102','103','104','105','106','107','108','109','111','112','113',\n",
    "     '114','115','116','117','118','119','121','122','123','124','200','201','202',\n",
    "     '203','205','207','208','209','210','212','213','214','215','217','219','220',\n",
    "     '221','222','223','228','230','231','232','233','234']"
   ]
  },
  {
   "cell_type": "code",
   "execution_count": 6,
   "metadata": {},
   "outputs": [],
   "source": [
    "import wfdb"
   ]
  },
  {
   "cell_type": "code",
   "execution_count": 7,
   "metadata": {},
   "outputs": [],
   "source": [
    "df=pd.DataFrame()"
   ]
  },
  {
   "cell_type": "code",
   "execution_count": 8,
   "metadata": {},
   "outputs": [
    {
     "data": {
      "text/html": [
       "<div>\n",
       "<style scoped>\n",
       "    .dataframe tbody tr th:only-of-type {\n",
       "        vertical-align: middle;\n",
       "    }\n",
       "\n",
       "    .dataframe tbody tr th {\n",
       "        vertical-align: top;\n",
       "    }\n",
       "\n",
       "    .dataframe thead th {\n",
       "        text-align: right;\n",
       "    }\n",
       "</style>\n",
       "<table border=\"1\" class=\"dataframe\">\n",
       "  <thead>\n",
       "    <tr style=\"text-align: right;\">\n",
       "      <th></th>\n",
       "      <th>sym</th>\n",
       "      <th>val</th>\n",
       "      <th>pt</th>\n",
       "    </tr>\n",
       "  </thead>\n",
       "  <tbody>\n",
       "    <tr>\n",
       "      <td>0</td>\n",
       "      <td>+</td>\n",
       "      <td>1</td>\n",
       "      <td>100</td>\n",
       "    </tr>\n",
       "    <tr>\n",
       "      <td>1</td>\n",
       "      <td>A</td>\n",
       "      <td>33</td>\n",
       "      <td>100</td>\n",
       "    </tr>\n",
       "    <tr>\n",
       "      <td>2</td>\n",
       "      <td>N</td>\n",
       "      <td>2239</td>\n",
       "      <td>100</td>\n",
       "    </tr>\n",
       "    <tr>\n",
       "      <td>3</td>\n",
       "      <td>V</td>\n",
       "      <td>1</td>\n",
       "      <td>100</td>\n",
       "    </tr>\n",
       "    <tr>\n",
       "      <td>0</td>\n",
       "      <td>+</td>\n",
       "      <td>1</td>\n",
       "      <td>101</td>\n",
       "    </tr>\n",
       "  </tbody>\n",
       "</table>\n",
       "</div>"
      ],
      "text/plain": [
       "  sym   val   pt\n",
       "0   +     1  100\n",
       "1   A    33  100\n",
       "2   N  2239  100\n",
       "3   V     1  100\n",
       "0   +     1  101"
      ]
     },
     "execution_count": 8,
     "metadata": {},
     "output_type": "execute_result"
    }
   ],
   "source": [
    "for pt in pts:\n",
    "    file=data_path+pt\n",
    "    annotation=wfdb.rdann(file,'atr')\n",
    "    sym=annotation.symbol\n",
    "    \n",
    "    values,counts=np.unique(sym,return_counts=True)\n",
    "    df_sub=pd.DataFrame({'sym':values,'val':counts,'pt':[pt]*len(counts)})\n",
    "    df=pd.concat([df,df_sub],axis=0)\n",
    "df.head()"
   ]
  },
  {
   "cell_type": "code",
   "execution_count": 9,
   "metadata": {},
   "outputs": [
    {
     "data": {
      "text/plain": [
       "sym\n",
       "N    75052\n",
       "L     8075\n",
       "R     7259\n",
       "V     7130\n",
       "/     7028\n",
       "A     2546\n",
       "+     1291\n",
       "f      982\n",
       "F      803\n",
       "~      616\n",
       "!      472\n",
       "\"      437\n",
       "j      229\n",
       "x      193\n",
       "a      150\n",
       "|      132\n",
       "E      106\n",
       "J       83\n",
       "Q       33\n",
       "e       16\n",
       "[        6\n",
       "]        6\n",
       "S        2\n",
       "Name: val, dtype: int64"
      ]
     },
     "execution_count": 9,
     "metadata": {},
     "output_type": "execute_result"
    }
   ],
   "source": [
    "df.groupby('sym').val.sum().sort_values(ascending=False)\n"
   ]
  },
  {
   "cell_type": "code",
   "execution_count": 10,
   "metadata": {},
   "outputs": [],
   "source": [
    "#list of nonbeat and abnormal\n",
    "#'`',\n",
    "nonbeat=['[','!',']','x','(',')','p','t,'u'','`',\n",
    "         '\\'','^','|','~','+','s','T','*','D','=','\"','@','Q','?']\n",
    "abnormal=['L','R','V','/','A','f','F','j','a','E','J','e','S']"
   ]
  },
  {
   "cell_type": "code",
   "execution_count": 11,
   "metadata": {},
   "outputs": [],
   "source": [
    "#break into normal, abnormal or non-beat\n",
    "df['cat']=-1\n",
    "df.loc[df.sym=='N','cat']=0\n",
    "df.loc[df.sym.isin(abnormal),'cat']=1"
   ]
  },
  {
   "cell_type": "code",
   "execution_count": 12,
   "metadata": {},
   "outputs": [
    {
     "data": {
      "text/plain": [
       "cat\n",
       "-1     3186\n",
       " 0    75052\n",
       " 1    34409\n",
       "Name: val, dtype: int64"
      ]
     },
     "execution_count": 12,
     "metadata": {},
     "output_type": "execute_result"
    }
   ],
   "source": [
    "df.groupby('cat').val.sum()"
   ]
  },
  {
   "cell_type": "code",
   "execution_count": 13,
   "metadata": {},
   "outputs": [],
   "source": [
    "def load_ecg(file):\n",
    "    #load the ecg\n",
    "    #example file: 'mit-bih-arrhythmia-database-1.0.0/101'\n",
    "    \n",
    "    #load the ecg\n",
    "    record=wfdb.rdrecord(file)\n",
    "    #load the annotation\n",
    "    annotation=wfdb.rdann(file,'atr')\n",
    "    \n",
    "    #extract the signal\n",
    "    p_signal=record.p_signal\n",
    "    \n",
    "    #verify freqency is 360\n",
    "    assert record.fs==360,'sample freq is not 360'\n",
    "    \n",
    "    #extract symbols and annotation index\n",
    "    atr_sym=annotation.symbol\n",
    "    atr_sample=annotation.sample\n",
    "    \n",
    "    return p_signal, atr_sym, atr_sample\n"
   ]
  },
  {
   "cell_type": "code",
   "execution_count": 14,
   "metadata": {},
   "outputs": [],
   "source": [
    "file=data_path+pts[0]\n"
   ]
  },
  {
   "cell_type": "code",
   "execution_count": 15,
   "metadata": {},
   "outputs": [],
   "source": [
    "p_signal,atr_sym,atr_sample=load_ecg(file)"
   ]
  },
  {
   "cell_type": "code",
   "execution_count": 16,
   "metadata": {},
   "outputs": [
    {
     "name": "stdout",
     "output_type": "stream",
     "text": [
      "+ 3\n",
      "J 50\n",
      "N 2700\n",
      "V 3\n",
      "~ 8\n"
     ]
    }
   ],
   "source": [
    "values,counts=np.unique(sym,return_counts=True)\n",
    "for v,c in zip(values,counts):\n",
    "    print(v,c)"
   ]
  },
  {
   "cell_type": "code",
   "execution_count": 17,
   "metadata": {},
   "outputs": [
    {
     "data": {
      "text/plain": [
       "[2044, 66792, 74986, 99579, 128085, 170719, 279576, 305709, 307745, 312825]"
      ]
     },
     "execution_count": 17,
     "metadata": {},
     "output_type": "execute_result"
    }
   ],
   "source": [
    "#get abnormal beat index\n",
    "ab_index=[b for a,b in zip(atr_sym,atr_sample) if a in abnormal][:10]\n",
    "ab_index"
   ]
  },
  {
   "cell_type": "code",
   "execution_count": 18,
   "metadata": {},
   "outputs": [],
   "source": [
    "x=np.arange(len(p_signal))"
   ]
  },
  {
   "cell_type": "code",
   "execution_count": 19,
   "metadata": {},
   "outputs": [
    {
     "data": {
      "image/png": "[encoded data removed]",
      "text/plain": [
       "<Figure size 432x288 with 1 Axes>"
      ]
     },
     "metadata": {
      "needs_background": "light"
     },
     "output_type": "display_data"
    }
   ],
   "source": [
    "left=ab_index[1]-1080\n",
    "right=ab_index[1]+1080\n",
    "\n",
    "plt.plot(x[left:right],p_signal[left:right,0],'-',label='ecg',)\n",
    "plt.plot(x[atr_sample],p_signal[atr_sample,0],'go',label='normal')\n",
    "plt.plot(x[ab_index],p_signal[ab_index,0],'ro',label='abnormal')\n",
    "\n",
    "plt.xlim(left,right)\n",
    "plt.ylim(p_signal[left:right].min()-0.05,p_signal[left:right,0].max()+0.05)\n",
    "plt.xlabel('time-index')\n",
    "plt.ylabel('ECG signal')\n",
    "plt.legend(bbox_to_anchor=(1.04,1),loc='upper left')\n",
    "plt.show()"
   ]
  },
  {
   "cell_type": "code",
   "execution_count": 20,
   "metadata": {},
   "outputs": [],
   "source": [
    "#Make a dataset\n",
    "def make_dataset(pts, num_sec, fs, abnormal):\n",
    "    # function for making dataset ignoring non-beats\n",
    "    # input:\n",
    "    # pts - list of patients\n",
    "    # num_sec = number of seconds to include before and after the beat\n",
    "    # fs = frequency\n",
    "    # output: \n",
    "    #   X_all = signal (nbeats , num_sec * fs columns)\n",
    "    #   Y_all = binary is abnormal (nbeats, 1)\n",
    "    #   sym_all = beat annotation symbol (nbeats,1)\n",
    "    \n",
    "    # initialize numpy arrays\n",
    "    num_cols = 2*num_sec * fs\n",
    "    X_all = np.zeros((1,num_cols))\n",
    "    Y_all = np.zeros((1,1))\n",
    "    sym_all = []\n",
    "    \n",
    "    # list to keep track of number of beats across patients\n",
    "    max_rows = []\n",
    "    \n",
    "    for pt in pts:\n",
    "        file = data_path + pt\n",
    "        \n",
    "        p_signal, atr_sym, atr_sample = load_ecg(file)\n",
    "        \n",
    "        # grab the first signal\n",
    "        p_signal = p_signal[:,0]\n",
    "        \n",
    "        # make df to exclude the nonbeats\n",
    "        df_ann = pd.DataFrame({'atr_sym':atr_sym,\n",
    "                              'atr_sample':atr_sample})\n",
    "        df_ann = df_ann.loc[df_ann.atr_sym.isin(abnormal + ['N'])]\n",
    "        \n",
    "        X,Y,sym = build_XY(p_signal,df_ann, num_cols, abnormal)\n",
    "        sym_all = sym_all+sym\n",
    "        max_rows.append(X.shape[0])\n",
    "        X_all = np.append(X_all,X,axis = 0)\n",
    "        Y_all = np.append(Y_all,Y,axis = 0)\n",
    "    # drop the first zero row\n",
    "    X_all = X_all[1:,:]\n",
    "    Y_all = Y_all[1:,:]\n",
    "    \n",
    "    # check sizes make sense\n",
    "    assert np.sum(max_rows) == X_all.shape[0], 'number of X, max_rows rows messed up'\n",
    "    assert Y_all.shape[0] == X_all.shape[0], 'number of X, Y rows messed up'\n",
    "    assert Y_all.shape[0] == len(sym_all), 'number of Y, sym rows messed up'\n",
    "    return X_all, Y_all, sym_all\n",
    "def build_XY(p_signal, df_ann, num_cols, abnormal):\n",
    "    # this function builds the X,Y matrices for each beat\n",
    "    # it also returns the original symbols for Y\n",
    "    \n",
    "    num_rows = len(df_ann)\n",
    "    X = np.zeros((num_rows, num_cols))\n",
    "    Y = np.zeros((num_rows,1))\n",
    "    sym = []\n",
    "    \n",
    "    # keep track of rows\n",
    "    max_row = 0\n",
    "    for atr_sample, atr_sym in zip(df_ann.atr_sample.values,df_ann.atr_sym.values):\n",
    "        left = max([0,(atr_sample - num_sec*fs) ])\n",
    "        right = min([len(p_signal),(atr_sample + num_sec*fs) ])\n",
    "        x = p_signal[left: right]\n",
    "        if len(x) == num_cols:\n",
    "            X[max_row,:] = x\n",
    "            Y[max_row,:] = int(atr_sym in abnormal)\n",
    "            sym.append(atr_sym)\n",
    "            max_row += 1\n",
    "    X = X[:max_row,:]\n",
    "    Y = Y[:max_row,:]\n",
    "    return X,Y,sym"
   ]
  },
  {
   "cell_type": "code",
   "execution_count": 21,
   "metadata": {},
   "outputs": [],
   "source": [
    "#Lesson 1: split on patients not on samples\n",
    "num_sec = 3\n",
    "fs = 360\n",
    "X_all, Y_all, sym_all = make_dataset(pts, num_sec, fs, abnormal)"
   ]
  },
  {
   "cell_type": "code",
   "execution_count": 22,
   "metadata": {},
   "outputs": [],
   "source": [
    "from sklearn.model_selection import train_test_split\n",
    "X_train,x_valid,y_train,y_valid=train_test_split(X_all,Y_all,test_size=0.33,random_state=42)"
   ]
  },
  {
   "cell_type": "code",
   "execution_count": 23,
   "metadata": {},
   "outputs": [
    {
     "name": "stderr",
     "output_type": "stream",
     "text": [
      "Using TensorFlow backend.\n"
     ]
    }
   ],
   "source": [
    "from keras.models import Sequential\n",
    "from keras.layers import Dense, Flatten,Dropout\n",
    "from keras.utils import to_categorical\n",
    "\n"
   ]
  },
  {
   "cell_type": "code",
   "execution_count": 24,
   "metadata": {},
   "outputs": [
    {
     "name": "stdout",
     "output_type": "stream",
     "text": [
      "WARNING:tensorflow:From C:\\Users\\nikhi\\Anaconda3\\lib\\site-packages\\tensorflow_core\\python\\ops\\resource_variable_ops.py:1630: calling BaseResourceVariable.__init__ (from tensorflow.python.ops.resource_variable_ops) with constraint is deprecated and will be removed in a future version.\n",
      "Instructions for updating:\n",
      "If using Keras pass *_constraint arguments to layers.\n"
     ]
    }
   ],
   "source": [
    "#build the same model'\n",
    "#lets test out relu(a diff activation fuc) and drop out(for regularization)\n",
    "model=Sequential()\n",
    "model.add(Dense(32,activation='relu',input_dim=X_train.shape[1]))\n",
    "model.add(Dropout(rate=0.25))\n",
    "model.add(Dense(1,activation='sigmoid'))"
   ]
  },
  {
   "cell_type": "code",
   "execution_count": 25,
   "metadata": {},
   "outputs": [
    {
     "name": "stdout",
     "output_type": "stream",
     "text": [
      "WARNING:tensorflow:From C:\\Users\\nikhi\\Anaconda3\\lib\\site-packages\\tensorflow_core\\python\\ops\\nn_impl.py:183: where (from tensorflow.python.ops.array_ops) is deprecated and will be removed in a future version.\n",
      "Instructions for updating:\n",
      "Use tf.where in 2.0, which has the same broadcast rule as np.where\n"
     ]
    }
   ],
   "source": [
    "#compile the model - use categorical crossentropy and the adam optimiser\n",
    "model.compile(loss='binary_crossentropy',\n",
    "             optimizer='adam',\n",
    "             metrics=['accuracy'])"
   ]
  },
  {
   "cell_type": "code",
   "execution_count": 26,
   "metadata": {},
   "outputs": [
    {
     "name": "stdout",
     "output_type": "stream",
     "text": [
      "WARNING:tensorflow:From C:\\Users\\nikhi\\Anaconda3\\lib\\site-packages\\keras\\backend\\tensorflow_backend.py:422: The name tf.global_variables is deprecated. Please use tf.compat.v1.global_variables instead.\n",
      "\n",
      "Epoch 1/5\n",
      "73096/73096 [==============================] - 5s 67us/step - loss: 0.2467 - accuracy: 0.9085\n",
      "Epoch 2/5\n",
      "73096/73096 [==============================] - 5s 62us/step - loss: 0.1652 - accuracy: 0.9461\n",
      "Epoch 3/5\n",
      "73096/73096 [==============================] - 5s 65us/step - loss: 0.1449 - accuracy: 0.9547\n",
      "Epoch 4/5\n",
      "73096/73096 [==============================] - 5s 62us/step - loss: 0.1308 - accuracy: 0.9594\n",
      "Epoch 5/5\n",
      "73096/73096 [==============================] - 5s 62us/step - loss: 0.1257 - accuracy: 0.9611\n"
     ]
    },
    {
     "data": {
      "text/plain": [
       "<keras.callbacks.callbacks.History at 0x1fe64074cc8>"
      ]
     },
     "execution_count": 26,
     "metadata": {},
     "output_type": "execute_result"
    }
   ],
   "source": [
    "model.fit(X_train,y_train,batch_size=32,epochs=5,verbose=1)"
   ]
  },
  {
   "cell_type": "code",
   "execution_count": 27,
   "metadata": {},
   "outputs": [],
   "source": [
    "from sklearn.metrics import roc_auc_score,accuracy_score,precision_score, recall_score\n"
   ]
  },
  {
   "cell_type": "code",
   "execution_count": 28,
   "metadata": {},
   "outputs": [],
   "source": [
    "def calc_prevalence(y_actual):\n",
    "    return (sum(y_actual)/len(y_actual))\n",
    "def calc_specificity(y_actual,y_pred,thresh):\n",
    "    #caluculate specificity\n",
    "    return sum((y_pred<thresh)&(y_actual==0))/sum(y_actual==0)\n",
    "def print_report(y_actual,y_pred,thresh):\n",
    "    auc=roc_auc_score(y_actual,y_pred)\n",
    "    accuracy=accuracy_score(y_actual,(y_pred>thresh))\n",
    "    recall=recall_score(y_actual,(y_pred>thresh))\n",
    "    precision=precision_score(y_actual,(y_pred>thresh))\n",
    "    specificity=calc_specificity(y_actual,y_pred,thresh)\n",
    "    print('AUC:%.3f'%auc)\n",
    "    print('accuracy:%.3f'%accuracy)\n",
    "    print('recall:%.3f'%recall)\n",
    "    print('precision:%.3f'%precision)\n",
    "    print('specificity:%.3f'%specificity)\n",
    "    print('prevalence:%.3f'%calc_prevalence(y_actual))\n",
    "    print(' ')\n",
    "    return auc,accuracy,recall,precision,specificity"
   ]
  },
  {
   "cell_type": "code",
   "execution_count": 30,
   "metadata": {},
   "outputs": [
    {
     "name": "stdout",
     "output_type": "stream",
     "text": [
      "73096/73096 [==============================] - 2s 21us/step\n",
      "36003/36003 [==============================] - 1s 22us/step\n"
     ]
    }
   ],
   "source": [
    "y_train_preds_dense=model.predict_proba(X_train,verbose=1)\n",
    "y_valid_preds_dense=model.predict_proba(x_valid,verbose=1)"
   ]
  },
  {
   "cell_type": "code",
   "execution_count": 31,
   "metadata": {},
   "outputs": [
    {
     "data": {
      "text/plain": [
       "0.3147641457808909"
      ]
     },
     "execution_count": 31,
     "metadata": {},
     "output_type": "execute_result"
    }
   ],
   "source": [
    "thresh=(sum(y_train)/len(y_train))[0]\n",
    "thresh"
   ]
  },
  {
   "cell_type": "code",
   "execution_count": 32,
   "metadata": {},
   "outputs": [
    {
     "name": "stdout",
     "output_type": "stream",
     "text": [
      "Train\n",
      "AUC:0.993\n",
      "accuracy:0.973\n",
      "recall:0.958\n",
      "precision:0.956\n",
      "specificity:0.980\n",
      "prevalence:0.315\n",
      " \n"
     ]
    },
    {
     "data": {
      "text/plain": [
       "(0.9931147479983212,\n",
       " 0.9728028893509905,\n",
       " 0.9576234353268428,\n",
       " 0.9560444328733837,\n",
       " array([0.97977559]))"
      ]
     },
     "execution_count": 32,
     "metadata": {},
     "output_type": "execute_result"
    }
   ],
   "source": [
    "print('Train')\n",
    "print_report(y_train,y_train_preds_dense,thresh)"
   ]
  },
  {
   "cell_type": "code",
   "execution_count": 33,
   "metadata": {},
   "outputs": [
    {
     "name": "stdout",
     "output_type": "stream",
     "text": [
      "Valid\n",
      "AUC:0.989\n",
      "accuracy:0.967\n",
      "recall:0.947\n",
      "precision:0.946\n",
      "specificity:0.975\n",
      "prevalence:0.314\n",
      " \n"
     ]
    },
    {
     "data": {
      "text/plain": [
       "(0.9889654430520602,\n",
       " 0.966530566897203,\n",
       " 0.9473264872521246,\n",
       " 0.9460701971532137,\n",
       " array([0.97531064]))"
      ]
     },
     "execution_count": 33,
     "metadata": {},
     "output_type": "execute_result"
    }
   ],
   "source": [
    "print('Valid')\n",
    "print_report(y_valid,y_valid_preds_dense,thresh)"
   ]
  },
  {
   "cell_type": "code",
   "execution_count": 34,
   "metadata": {},
   "outputs": [
    {
     "name": "stdout",
     "output_type": "stream",
     "text": [
      "36 12\n"
     ]
    }
   ],
   "source": [
    "import random\n",
    "random.seed(42)\n",
    "pts_train=random.sample(pts,36)\n",
    "pts_valid=[pt for pt in pts if pt not in pts_train]\n",
    "print(len(pts_train),len(pts_valid))"
   ]
  },
  {
   "cell_type": "code",
   "execution_count": 35,
   "metadata": {},
   "outputs": [
    {
     "name": "stdout",
     "output_type": "stream",
     "text": [
      "(80614, 2160) (80614, 1) 80614\n",
      "(28485, 2160) (28485, 1) 28485\n"
     ]
    }
   ],
   "source": [
    "X_train,y_train,sym_train=make_dataset(pts_train,num_sec,fs,abnormal)\n",
    "X_valid,y_valid,sym_valid=make_dataset(pts_valid,num_sec,fs,abnormal)\n",
    "\n",
    "print(X_train.shape,y_train.shape,len(sym_train))\n",
    "print(X_valid.shape,y_valid.shape,len(sym_valid))"
   ]
  },
  {
   "cell_type": "code",
   "execution_count": 36,
   "metadata": {},
   "outputs": [
    {
     "name": "stdout",
     "output_type": "stream",
     "text": [
      "Epoch 1/5\n",
      "80614/80614 [==============================] - 5s 66us/step - loss: 0.2151 - accuracy: 0.9246\n",
      "Epoch 2/5\n",
      "80614/80614 [==============================] - 5s 65us/step - loss: 0.1376 - accuracy: 0.9592\n",
      "Epoch 3/5\n",
      "80614/80614 [==============================] - 5s 67us/step - loss: 0.1249 - accuracy: 0.9638\n",
      "Epoch 4/5\n",
      "80614/80614 [==============================] - 5s 64us/step - loss: 0.1116 - accuracy: 0.9673\n",
      "Epoch 5/5\n",
      "80614/80614 [==============================] - 5s 64us/step - loss: 0.1091 - accuracy: 0.9686\n"
     ]
    },
    {
     "data": {
      "text/plain": [
       "<keras.callbacks.callbacks.History at 0x1fe14174b08>"
      ]
     },
     "execution_count": 36,
     "metadata": {},
     "output_type": "execute_result"
    }
   ],
   "source": [
    "#build the model\n",
    "#lets test out the relu (a different activation func) and dop out(for regularization)\n",
    "model=Sequential()\n",
    "model.add(Dense(32,activation='relu',input_dim=X_train.shape[1]))\n",
    "model.add(Dropout(rate=0.25))\n",
    "model.add(Dense(1,activation='sigmoid'))\n",
    "\n",
    "#compile the model use the categorical crossentropy and the adam optimizer\n",
    "model.compile(loss='binary_crossentropy',optimizer='adam',metrics=['accuracy'])\n",
    "\n",
    "model.fit(X_train,y_train,batch_size=32,epochs=5,verbose=1)"
   ]
  },
  {
   "cell_type": "code",
   "execution_count": 37,
   "metadata": {},
   "outputs": [
    {
     "name": "stdout",
     "output_type": "stream",
     "text": [
      "80614/80614 [==============================] - 2s 23us/step\n",
      "28485/28485 [==============================] - 1s 23us/step\n"
     ]
    }
   ],
   "source": [
    "y_train_preds_dense=model.predict_proba(X_train,verbose=1)\n",
    "y_valid_preds_dense=model.predict_proba(X_valid,verbose=1)"
   ]
  },
  {
   "cell_type": "code",
   "execution_count": 38,
   "metadata": {},
   "outputs": [
    {
     "data": {
      "text/plain": [
       "0.29906715955045027"
      ]
     },
     "execution_count": 38,
     "metadata": {},
     "output_type": "execute_result"
    }
   ],
   "source": [
    "thresh=(sum(y_train)/len(y_train))[0]\n",
    "thresh"
   ]
  },
  {
   "cell_type": "code",
   "execution_count": 39,
   "metadata": {},
   "outputs": [
    {
     "name": "stdout",
     "output_type": "stream",
     "text": [
      "Train\n",
      "AUC:0.993\n",
      "accuracy:0.978\n",
      "recall:0.952\n",
      "precision:0.973\n",
      "specificity:0.989\n",
      "prevalence:0.299\n",
      " \n"
     ]
    },
    {
     "data": {
      "text/plain": [
       "(0.9930273386096165,\n",
       " 0.9778946584960428,\n",
       " 0.9522999709651997,\n",
       " 0.9732101225043449,\n",
       " array([0.98881515]))"
      ]
     },
     "execution_count": 39,
     "metadata": {},
     "output_type": "execute_result"
    }
   ],
   "source": [
    "print('Train')\n",
    "print_report(y_train,y_train_preds_dense,thresh)"
   ]
  },
  {
   "cell_type": "code",
   "execution_count": 40,
   "metadata": {},
   "outputs": [
    {
     "name": "stdout",
     "output_type": "stream",
     "text": [
      "Valid\n",
      "AUC:0.850\n",
      "accuracy:0.758\n",
      "recall:0.377\n",
      "precision:0.878\n",
      "specificity:0.971\n",
      "prevalence:0.358\n",
      " \n"
     ]
    },
    {
     "data": {
      "text/plain": [
       "(0.8502363855608419,\n",
       " 0.7582938388625592,\n",
       " 0.377243746934772,\n",
       " 0.8776814240073026,\n",
       " array([0.97069437]))"
      ]
     },
     "execution_count": 40,
     "metadata": {},
     "output_type": "execute_result"
    }
   ],
   "source": [
    "print('Valid')\n",
    "print_report(y_valid,y_valid_preds_dense,thresh)"
   ]
  },
  {
   "cell_type": "code",
   "execution_count": 41,
   "metadata": {},
   "outputs": [],
   "source": [
    "#learning curve"
   ]
  },
  {
   "cell_type": "code",
   "execution_count": 42,
   "metadata": {},
   "outputs": [
    {
     "name": "stdout",
     "output_type": "stream",
     "text": [
      "1\n",
      "- 0.9375018077941673 0.6976431456473023\n",
      "18\n",
      "- 0.9950150280146195 0.8033096552706102\n",
      "36\n",
      "- 0.9936192944228986 0.8542602279068283\n"
     ]
    }
   ],
   "source": [
    "aucs_train = []\n",
    "aucs_valid = []\n",
    "n_pts = [1,18,36]\n",
    "for n_pt in n_pts:\n",
    "    \n",
    "    print(n_pt)\n",
    "    pts_sub = pts_train[:n_pt]\n",
    "    X_sub, y_sub, sym_sub = make_dataset(pts_sub, num_sec, fs,abnormal)\n",
    "# build the same model\n",
    "    # lets test out relu (a different activation function) and add drop out (for regularization)\n",
    "    model = Sequential()\n",
    "    model.add(Dense(32, activation = 'relu', input_dim = X_train.shape[1]))\n",
    "    model.add(Dropout(rate = 0.25))\n",
    "    model.add(Dense(1, activation = 'sigmoid'))\n",
    "# compile the model - use categorical crossentropy, and the adam optimizer\n",
    "    model.compile(\n",
    "                    loss = 'binary_crossentropy',\n",
    "                    optimizer = 'adam',\n",
    "                    metrics = ['accuracy'])\n",
    "    model.fit(X_sub, y_sub, batch_size = 32, epochs= 5, verbose = 0)\n",
    "    y_sub_preds_dense = model.predict_proba(X_sub,verbose = 0)\n",
    "    y_valid_preds_dense = model.predict_proba(X_valid,verbose = 0)\n",
    "    \n",
    "    auc_train = roc_auc_score(y_sub, y_sub_preds_dense)\n",
    "    auc_valid = roc_auc_score(y_valid, y_valid_preds_dense)\n",
    "    print('-',auc_train, auc_valid)\n",
    "    aucs_train.append(auc_train)\n",
    "    aucs_valid.append(auc_valid)"
   ]
  },
  {
   "cell_type": "code",
   "execution_count": 43,
   "metadata": {},
   "outputs": [
    {
     "data": {
      "text/plain": [
       "<function matplotlib.pyplot.show(*args, **kw)>"
      ]
     },
     "execution_count": 43,
     "metadata": {},
     "output_type": "execute_result"
    },
    {
     "data": {
      "image/png": "[encoded data removed]",
      "text/plain": [
       "<Figure size 432x288 with 1 Axes>"
      ]
     },
     "metadata": {
      "needs_background": "light"
     },
     "output_type": "display_data"
    }
   ],
   "source": [
    "plt.plot(n_pts,aucs_train,'o-',label='Train')\n",
    "plt.plot(n_pts,aucs_valid,'o-',label='Valid')\n",
    "plt.xlabel('Number of training pts')\n",
    "plt.ylabel('AUC')\n",
    "plt.legend(bbox_to_anchor=(1.04,1),loc='upper left')\n",
    "plt.show"
   ]
  },
  {
   "cell_type": "code",
   "execution_count": 44,
   "metadata": {},
   "outputs": [],
   "source": [
    "#testing multiple types of deep learning models"
   ]
  },
  {
   "cell_type": "code",
   "execution_count": null,
   "metadata": {},
   "outputs": [],
   "source": [
    "#CNN"
   ]
  },
  {
   "cell_type": "code",
   "execution_count": 46,
   "metadata": {},
   "outputs": [
    {
     "name": "stdout",
     "output_type": "stream",
     "text": [
      "(80614, 2160, 1)\n",
      "(28485, 2160, 1)\n"
     ]
    }
   ],
   "source": [
    "#reshape input to be [samples,time steps,features=1]\n",
    "\n",
    "X_train_cnn=np.reshape(X_train,(X_train.shape[0],X_train.shape[1],1))\n",
    "X_valid_cnn=np.reshape(X_valid,(X_valid.shape[0],X_valid.shape[1],1))\n",
    "\n",
    "print(X_train_cnn.shape)\n",
    "print(X_valid_cnn.shape)"
   ]
  },
  {
   "cell_type": "code",
   "execution_count": 47,
   "metadata": {},
   "outputs": [],
   "source": [
    "from keras.layers import Conv1D\n"
   ]
  },
  {
   "cell_type": "code",
   "execution_count": 49,
   "metadata": {},
   "outputs": [],
   "source": [
    "model=Sequential()\n",
    "model.add(Conv1D(filters=120,kernel_size=5,activation='relu',input_shape=(2160,1)))\n",
    "model.add(Dropout(rate=0.25))\n",
    "model.add(Flatten())\n",
    "model.add(Dense(1,activation='sigmoid'))\n",
    "\n",
    "#compile the model use categorical crossentropy and adma optimizer\n",
    "model.compile(loss='binary_crossentropy',optimizer='adam',metrics=['accuracy'])"
   ]
  },
  {
   "cell_type": "code",
   "execution_count": 52,
   "metadata": {},
   "outputs": [
    {
     "name": "stdout",
     "output_type": "stream",
     "text": [
      "Epoch 1/2\n",
      "80614/80614 [==============================] - 557s 7ms/step - loss: 0.1953 - accuracy: 0.9344\n",
      "Epoch 2/2\n",
      "80614/80614 [==============================] - 584s 7ms/step - loss: 0.1199 - accuracy: 0.9652\n"
     ]
    },
    {
     "data": {
      "text/plain": [
       "<keras.callbacks.callbacks.History at 0x1fe17638048>"
      ]
     },
     "execution_count": 52,
     "metadata": {},
     "output_type": "execute_result"
    }
   ],
   "source": [
    "model.fit(X_train_cnn,y_train,batch_size=32,epochs=2,verbose=1)"
   ]
  },
  {
   "cell_type": "code",
   "execution_count": 53,
   "metadata": {},
   "outputs": [
    {
     "name": "stdout",
     "output_type": "stream",
     "text": [
      "80614/80614 [==============================] - 63s 777us/step\n",
      "28485/28485 [==============================] - 22s 780us/step\n"
     ]
    }
   ],
   "source": [
    "y_train_preds_cnn=model.predict_proba(X_train_cnn,verbose=1)\n",
    "y_valid_preds_cnn=model.predict_proba(X_valid_cnn,verbose=1)"
   ]
  },
  {
   "cell_type": "code",
   "execution_count": 54,
   "metadata": {},
   "outputs": [
    {
     "name": "stdout",
     "output_type": "stream",
     "text": [
      "Train\n",
      "AUC:0.992\n",
      "accuracy:0.961\n",
      "recall:0.970\n",
      "precision:0.907\n",
      "specificity:0.958\n",
      "prevalence:0.299\n",
      " \n",
      "Valid\n",
      "AUC:0.888\n",
      "accuracy:0.803\n",
      "recall:0.735\n",
      "precision:0.721\n",
      "specificity:0.842\n",
      "prevalence:0.358\n",
      " \n"
     ]
    },
    {
     "data": {
      "text/plain": [
       "(0.887610633113553,\n",
       " 0.8034755134281201,\n",
       " 0.7346738597351643,\n",
       " 0.7213714725994413,\n",
       " array([0.84182613]))"
      ]
     },
     "execution_count": 54,
     "metadata": {},
     "output_type": "execute_result"
    }
   ],
   "source": [
    "print('Train')\n",
    "print_report(y_train,y_train_preds_cnn,thresh)\n",
    "\n",
    "print('Valid')\n",
    "print_report(y_valid,y_valid_preds_cnn,thresh)"
   ]
  },
  {
   "cell_type": "markdown",
   "metadata": {},
   "source": [
    "<h5> BONUS </h5>"
   ]
  },
  {
   "cell_type": "code",
   "execution_count": 55,
   "metadata": {},
   "outputs": [],
   "source": [
    "#LSTM"
   ]
  },
  {
   "cell_type": "code",
   "execution_count": 56,
   "metadata": {},
   "outputs": [],
   "source": [
    "from keras.layers import Bidirectional, LSTM"
   ]
  },
  {
   "cell_type": "code",
   "execution_count": 58,
   "metadata": {},
   "outputs": [],
   "source": [
    "model=Sequential()\n",
    "model.add(Bidirectional(LSTM(64,input_shape=(X_train_cnn.shape[1],X_train_cnn.shape[2]))))\n",
    "model.add(Dropout(rate=0.25))\n",
    "model.add(Dense(1,activation='sigmoid'))\n",
    "\n",
    "#compile the model use categorical crossentropy and adma optimizer\n",
    "model.compile(loss='binary_crossentropy',optimizer='adam',metrics=['accuracy'])"
   ]
  },
  {
   "cell_type": "code",
   "execution_count": 59,
   "metadata": {},
   "outputs": [
    {
     "name": "stdout",
     "output_type": "stream",
     "text": [
      "Epoch 1/1\n",
      "10000/10000 [==============================] - 853s 85ms/step - loss: 0.5560 - accuracy: 0.7396\n"
     ]
    },
    {
     "data": {
      "text/plain": [
       "<keras.callbacks.callbacks.History at 0x1fe18919f48>"
      ]
     },
     "execution_count": 59,
     "metadata": {},
     "output_type": "execute_result"
    }
   ],
   "source": [
    "model.fit(X_train_cnn[:10000],y_train[:10000],batch_size=32,epochs=1,verbose=1)\n"
   ]
  },
  {
   "cell_type": "code",
   "execution_count": 60,
   "metadata": {},
   "outputs": [
    {
     "name": "stdout",
     "output_type": "stream",
     "text": [
      "10000/10000 [==============================] - 165s 17ms/step\n",
      "28485/28485 [==============================] - 501s 18ms/step\n"
     ]
    }
   ],
   "source": [
    "y_train_preds_lstm=model.predict_proba(X_train_cnn[:10000],verbose=1)\n",
    "y_valid_preds_lstm=model.predict_proba(X_valid_cnn,verbose=1)"
   ]
  },
  {
   "cell_type": "code",
   "execution_count": 61,
   "metadata": {},
   "outputs": [
    {
     "name": "stdout",
     "output_type": "stream",
     "text": [
      "Train\n",
      "AUC:0.850\n",
      "accuracy:0.823\n",
      "recall:0.838\n",
      "precision:0.807\n",
      "specificity:0.808\n",
      "prevalence:0.489\n",
      " \n",
      "Valid\n",
      "AUC:0.453\n",
      "accuracy:0.575\n",
      "recall:0.157\n",
      "precision:0.313\n",
      "specificity:0.808\n",
      "prevalence:0.358\n",
      " \n"
     ]
    },
    {
     "data": {
      "text/plain": [
       "(0.45347226084249426,\n",
       " 0.5748288572933122,\n",
       " 0.15664541441883276,\n",
       " 0.3125244618395303,\n",
       " array([0.80792783]))"
      ]
     },
     "execution_count": 61,
     "metadata": {},
     "output_type": "execute_result"
    }
   ],
   "source": [
    "print('Train')\n",
    "print_report(y_train[:10000],y_train_preds_lstm,thresh)\n",
    "\n",
    "print('Valid')\n",
    "print_report(y_valid,y_valid_preds_lstm,thresh)"
   ]
  },
  {
   "cell_type": "code",
   "execution_count": 80,
   "metadata": {},
   "outputs": [
    {
     "data": {
      "image/png": "[encoded data removed]",
      "text/plain": [
       "<Figure size 432x288 with 1 Axes>"
      ]
     },
     "metadata": {
      "needs_background": "light"
     },
     "output_type": "display_data"
    }
   ],
   "source": [
    "from sklearn.metrics import roc_curve, roc_auc_score\n",
    "\n",
    "\n",
    "fpr_valid_cnn, tpr_valid_cnn, t_valid_cnn = roc_curve(y_valid, y_valid_preds_cnn)\n",
    "auc_valid_cnn = roc_auc_score(y_valid, y_valid_preds_cnn)\n",
    "\n",
    "fpr_valid_dense, tpr_valid_dense, t_valid_dense = roc_curve(y_valid, y_valid_preds_dense)\n",
    "auc_valid_dense = roc_auc_score(y_valid, y_valid_preds_dense)\n",
    "\n",
    "fpr_valid_lstm, tpr_valid_lstm, t_valid_lstm = roc_curve(y_valid, y_valid_preds_lstm)\n",
    "auc_valid_lstm = roc_auc_score(y_valid, y_valid_preds_lstm)\n",
    "\n",
    "plt.plot(fpr_valid_cnn, tpr_valid_cnn, 'g-', label = 'CNN AUC:%.3f'%auc_valid_cnn)\n",
    "plt.plot(fpr_valid_dense, tpr_valid_dense, 'r-', label = 'Dense AUC:%.3f'%auc_valid_dense)\n",
    "plt.plot(fpr_valid_lstm, tpr_valid_lstm, 'b-', label = 'LSTM AUC:%.3f'%auc_valid_lstm)\n",
    "\n",
    "plt.plot([0,1],[0,1], 'k--')\n",
    "plt.xlabel('FPR')\n",
    "plt.ylabel('TPR')\n",
    "plt.legend(bbox_to_anchor = (1.04,1), loc = 'upper left')\n",
    "plt.title('Validation Set')\n",
    "plt.show()"
   ]
  },
  {
   "cell_type": "code",
   "execution_count": null,
   "metadata": {},
   "outputs": [],
   "source": []
  }
 ],
 "metadata": {
  "kernelspec": {
   "display_name": "Python 3",
   "language": "python",
   "name": "python3"
  },
  "language_info": {
   "codemirror_mode": {
    "name": "ipython",
    "version": 3
   },
   "file_extension": ".py",
   "mimetype": "text/x-python",
   "name": "python",
   "nbconvert_exporter": "python",
   "pygments_lexer": "ipython3",
   "version": "3.8.3"
  }
 },
 "nbformat": 4,
 "nbformat_minor": 2
}
